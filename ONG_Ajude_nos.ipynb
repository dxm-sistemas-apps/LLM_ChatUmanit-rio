{
  "nbformat": 4,
  "nbformat_minor": 0,
  "metadata": {
    "colab": {
      "provenance": [],
      "authorship_tag": "ABX9TyO6LS+87XLo6tDfTUfmRciJ",
      "include_colab_link": true
    },
    "kernelspec": {
      "name": "python3",
      "display_name": "Python 3"
    },
    "language_info": {
      "name": "python"
    }
  },
  "cells": [
    {
      "cell_type": "markdown",
      "metadata": {
        "id": "view-in-github",
        "colab_type": "text"
      },
      "source": [
        "<a href=\"https://colab.research.google.com/github/dxm-sistemas-apps/LLM_ChatUmanit-rio/blob/main/ONG_Ajude_nos.ipynb\" target=\"_parent\"><img src=\"https://colab.research.google.com/assets/colab-badge.svg\" alt=\"Open In Colab\"/></a>"
      ]
    },
    {
      "cell_type": "code",
      "source": [],
      "metadata": {
        "id": "H-ApUbncOZz1"
      },
      "execution_count": null,
      "outputs": []
    },
    {
      "cell_type": "code",
      "source": [
        "#Instalando o SDK do Google\n",
        "!pip install -q -U google-generativeai"
      ],
      "metadata": {
        "id": "kuRCHGPl9TRl"
      },
      "execution_count": 7,
      "outputs": []
    },
    {
      "cell_type": "code",
      "source": [
        "#Configurações iniciais\n",
        "import google.generativeai as genai\n",
        "from google.colab import userdata\n",
        "api_key = userdata.get(\"SECRET_KEY\")\n",
        "genai.configure(api_key=api_key)"
      ],
      "metadata": {
        "id": "IF2DzVZR9dlL"
      },
      "execution_count": 9,
      "outputs": []
    },
    {
      "cell_type": "code",
      "source": [
        "#Listando os modelos disponíveis\n",
        "for m in genai.list_models():\n",
        "  if 'generateContent' in m.supported_generation_methods:\n",
        "    print(m.name)"
      ],
      "metadata": {
        "colab": {
          "base_uri": "https://localhost:8080/",
          "height": 139
        },
        "id": "_VE1Oz_z_M5J",
        "outputId": "d741fb42-c23c-4693-c74c-d16f5b23324b"
      },
      "execution_count": 11,
      "outputs": [
        {
          "output_type": "stream",
          "name": "stdout",
          "text": [
            "models/gemini-1.0-pro\n",
            "models/gemini-1.0-pro-001\n",
            "models/gemini-1.0-pro-latest\n",
            "models/gemini-1.0-pro-vision-latest\n",
            "models/gemini-1.5-pro-latest\n",
            "models/gemini-pro\n",
            "models/gemini-pro-vision\n"
          ]
        }
      ]
    },
    {
      "cell_type": "code",
      "source": [
        "generation_config = {\n",
        "  \"candidate_count\": 1,\n",
        "  \"temperature\": 1,\n",
        "}"
      ],
      "metadata": {
        "id": "wSpLDWnCxDGz"
      },
      "execution_count": 12,
      "outputs": []
    },
    {
      "cell_type": "code",
      "execution_count": 13,
      "metadata": {
        "id": "jwBv7DofDofw"
      },
      "outputs": [],
      "source": [
        "safety_settings={\n",
        "    'HATE': 'BLOCK_HIGH',\n",
        "    'HARASSMENT': 'BLOCK_HIGH',\n",
        "    'SEXUAL' : 'BLOCK_HIGH',\n",
        "    'DANGEROUS' : 'BLOCK_HIGH'\n",
        "    }"
      ]
    },
    {
      "cell_type": "code",
      "source": [
        "model = genai.GenerativeModel(model_name = \"gemini-1.5-pro-latest\",\n",
        "                              generation_config=generation_config,)"
      ],
      "metadata": {
        "id": "ba20sEm9xjQl"
      },
      "execution_count": 14,
      "outputs": []
    },
    {
      "cell_type": "code",
      "source": [
        "chat = model.start_chat(history=[])"
      ],
      "metadata": {
        "id": "C3qVhEtMzScu"
      },
      "execution_count": 20,
      "outputs": []
    },
    {
      "cell_type": "code",
      "source": [
        "import random\n",
        "\n",
        "class Chatbot:\n",
        "    def __init__(self):\n",
        "        self.nome = \"Ajudante\"\n",
        "        self.saudacoes = [\n",
        "            \"Oi! Aqui é o Ajudante da ONG Ajude-nos, o que você gostaria de saber?\"\n",
        "        ]\n",
        "        self.agradecimentos = [\n",
        "            \"Muito obrigado pela sua generosidade!\",\n",
        "            \"Sua doação fará a diferença na vida de muitas pessoas. Agradecemos de coração!\",\n",
        "            \"Que gesto bonito! Agradecemos por se juntar a nós nessa missão.\"\n",
        "        ]\n",
        "        self.despedidas = [\n",
        "            \"Foi um prazer ajudar! Qualquer dúvida, estamos à disposição.\",\n",
        "            \"Até breve! Juntos podemos fazer a diferença.\",\n",
        "            \"Agradecemos a sua colaboração! Conte conosco sempre.\"\n",
        "        ]\n",
        "        self.opcoes_doacao = {\n",
        "            \"1\": \"Doação de dinheiro\",\n",
        "            \"2\": \"Doação de alimentos\",\n",
        "            \"3\": \"Doação de roupas\",\n",
        "            \"4\": \"Doação de itens de higiene\",\n",
        "            \"5\": \"Ser voluntario\"\n",
        "        }\n",
        "        self.informacoes_doacao = {\n",
        "            \"Doação de dinheiro\": \"Você pode fazer uma doação em dinheiro através do nosso site www.ongajude-nos.org.br ou através de PIX para a chave:ongajude-nos@ongajude-nos.org.br\",\n",
        "            \"Doação de alimentos\": \"Estamos aceitando doações de alimentos não perecíveis em nossa sede localizada na Rua da Ajuda, 100.\",\n",
        "            \"Doação de roupas\": \"As doações de roupas podem ser entregues em nossa sede localizada na Rua da Ajuda, 100.\",\n",
        "            \"Doação de itens de higiene\": \"Itens de higiene pessoal podem ser doados em nossa sede localizada na Rua da Ajuda, 100.\",\n",
        "            \"Voluntariado\": \"Se você deseja se voluntariar, entre em contato conosco através do email servoluntario@ongajude-nos.org.br.\"\n",
        "        }\n",
        "\n",
        "\n",
        "    def iniciar_conversa(self):\n",
        "        print(random.choice(self.saudacoes))\n",
        "        self.apresentar_opcoes()\n",
        "\n",
        "    def apresentar_opcoes(self):\n",
        "        print(\"\\nComo você gostaria de ajudar?\")\n",
        "        for key, value in self.opcoes_doacao.items():\n",
        "            print(f\"{key} - {value}\")\n",
        "        self.obter_opcao_usuario()\n",
        "\n",
        "    def obter_opcao_usuario(self):\n",
        "        opcao = input(\"\\nDigite o número da opção desejada: \")\n",
        "        while opcao not in self.opcoes_doacao:\n",
        "            print(\"Opção inválida. Por favor, escolha uma opção válida.\")\n",
        "            opcao = input(\"Digite o número da opção desejada: \")\n",
        "        self.fornecer_informacoes_doacao(opcao)\n",
        "\n",
        "    def fornecer_informacoes_doacao(self, opcao):\n",
        "        tipo_doacao = self.opcoes_doacao[opcao]\n",
        "        print(f\"\\n{self.informacoes_doacao[tipo_doacao]}\")\n",
        "        self.finalizar_conversa()\n",
        "\n",
        "    def finalizar_conversa(self):\n",
        "        print(f\"\\n{random.choice(self.agradecimentos)}\")\n",
        "        print(random.choice(self.despedidas))\n",
        "\n",
        "# Inicia o chatbot\n",
        "chatbot = Chatbot()\n",
        "chatbot.iniciar_conversa()"
      ],
      "metadata": {
        "colab": {
          "base_uri": "https://localhost:8080/"
        },
        "id": "tYC_O1UdNvwQ",
        "outputId": "3dc05752-637c-4a86-eab7-6888b257b1e2"
      },
      "execution_count": null,
      "outputs": [
        {
          "output_type": "stream",
          "name": "stdout",
          "text": [
            "Oi! Aqui é o Ajudante da ONG Ajude-nos, o que você gostaria de saber?\n",
            "\n",
            "Como você gostaria de ajudar?\n",
            "1 - Doação de dinheiro\n",
            "2 - Doação de alimentos\n",
            "3 - Doação de roupas\n",
            "4 - Doação de itens de higiene\n",
            "5 - Ser voluntario\n"
          ]
        }
      ]
    }
  ]
}